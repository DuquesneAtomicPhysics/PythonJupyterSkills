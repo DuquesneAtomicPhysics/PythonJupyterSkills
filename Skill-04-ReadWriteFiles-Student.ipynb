{
 "cells": [
  {
   "cell_type": "markdown",
   "metadata": {},
   "source": [
    "# Skill Homework #4\n",
    "# Reading & Writing Data Files\n",
    "----\n",
    "Run the cell below to read in the `numpy` module and recreate our arrays from the last sesssion to get started."
   ]
  },
  {
   "cell_type": "code",
   "execution_count": 1,
   "metadata": {},
   "outputs": [],
   "source": [
    "import numpy as np\n",
    "time = np.linspace(0,5,6)\n",
    "xPos1 = 1 + 2 * time\n",
    "xPos2 = 2 * time**2 # remember ** is raise to a power."
   ]
  },
  {
   "cell_type": "markdown",
   "metadata": {},
   "source": [
    "----\n",
    "# Writing Data to Files\n",
    "The `numpy` module includes functions to help reading and writing data to files. Sometimes they are useful, but sometimes it is easier to code the file input and output manually. You will see either way has details that you have to close attention to.\n",
    "\n",
    "A file format I strongly recommend is a Comma Separate Value (CSV) file with comment lines begining with a pound sign, `#`. This file format is common and it can be opened and read by Microsoft Excel and LibreOffice Calc programs. Many other program produce and accept this format. Here is what it might look like for our little time and position data set.\n",
    "```\n",
    "# Data from run 1\n",
    "# 2015-01-06 20:53\n",
    "# This is a final comment\n",
    "# Time, x1(m), x2(m)\n",
    "0.000,1.000,0.000\n",
    "1.000,3.000,2.000\n",
    "2.000,5.000,8.000\n",
    "3.000,7.000,18.000\n",
    "4.000,9.000,32.000\n",
    "5.000,11.000,50.000\n",
    "```\n",
    "Note that you should include meaningful comments about the data **in the data file itself**! Here are ProfHuster's words of wisdom (actually requirements) for data file comments.\n",
    "1. You should alway include the date and time the data was created in a comment.\n",
    "2. You should have a comment right before the first data point with a brief column label including units.\n",
    "3. You should have at least one comment describing the data.\n",
    "\n",
    "I also strongly recommend that the *name* of the data file contain at least the data and a sequence number. For example I am going to create a data file named `2017-01-07-Run1.csv`. If you write start the file name with the date in this format `YYYY-MM-DD`, then when the files are in alphabetical order, the are also in chronological order. When you are working on an experiment over several weeks this is a huge help!"
   ]
  },
  {
   "cell_type": "markdown",
   "metadata": {},
   "source": [
    "## Using `np.savetxt` to Write Data Files\n",
    "The basic `savetxt` function has the usage `np.savetxt(fileName, myArray)`. Your filename must be a string. Use `.csv` as the extension or last four characters of your file name. The second argument is an array to save.\n",
    "\n",
    "Here is the first crisis. One and only one array can be saved using this function. However, your data usually has at least two data array to save, like `time` and `position`!\n",
    "\n",
    "**Solution: ** create a temporary array that glues together your data arrays together.\n",
    "\n",
    "You can use the basic `np.array` function to do this. Remember that you can make a list where the items of the list are themselves arrays. Sweet. Make this list then call `np.array` to convert it back to an array.\n",
    "\n",
    "Go ahead and try this using the arrays `time`, `xPos1`, `xPos2`, and print the results out."
   ]
  },
  {
   "cell_type": "code",
   "execution_count": 2,
   "metadata": {
    "collapsed": false,
    "jupyter": {
     "outputs_hidden": false
    }
   },
   "outputs": [
    {
     "data": {
      "text/plain": [
       "array([[ 0.,  1.,  2.,  3.,  4.,  5.],\n",
       "       [ 1.,  3.,  5.,  7.,  9., 11.],\n",
       "       [ 0.,  2.,  8., 18., 32., 50.]])"
      ]
     },
     "execution_count": 2,
     "metadata": {},
     "output_type": "execute_result"
    }
   ],
   "source": [
    "np.array([time, xPos1, xPos2])"
   ]
  },
  {
   "cell_type": "markdown",
   "metadata": {},
   "source": [
    "OK. You should have gotten output like this:\n",
    "```\n",
    "[[  0.   1.   2.   3.   4.   5.]\n",
    " [  1.   3.   5.   7.   9.  11.]\n",
    " [  0.   2.   8.  18.  32.  50.]]\n",
    "```\n",
    "\n",
    "If you did not, then try the command `print(np.array([time, xPos1, xPos2]))`\n",
    "\n",
    "**Problem: ** this array is \"sideways\" or transposed. If you wrote this new array out, all of the times would be in the first line of the file, then all of `xPos`, then all of `xPos2`. The file would only have three lines of data in it. You want it the other way with the first line having a `time`, a `xPos1`, and a `xPos2`.\n",
    "\n",
    "Easy. Every `array` has a built in transpose operation you can use just by adding a `.T` at the end of the array. In the cell below print out the temporary data array in the correct orientation. It should start like\n",
    "```\n",
    "[[  0.   1.   0.]\n",
    " [  1.   3.   2.]\n",
    "```"
   ]
  },
  {
   "cell_type": "code",
   "execution_count": 7,
   "metadata": {
    "collapsed": false,
    "jupyter": {
     "outputs_hidden": false
    }
   },
   "outputs": [
    {
     "name": "stdout",
     "output_type": "stream",
     "text": [
      "[[ 0.  1.  0.]\n",
      " [ 1.  3.  2.]\n",
      " [ 2.  5.  8.]\n",
      " [ 3.  7. 18.]\n",
      " [ 4.  9. 32.]\n",
      " [ 5. 11. 50.]]\n"
     ]
    }
   ],
   "source": [
    "print(np.array([time, xPos1, xPos2]).T)"
   ]
  },
  {
   "cell_type": "markdown",
   "metadata": {},
   "source": [
    "You are almost there. Next you need to know how to put commas as the delimiter (the character that separates the number in a line) in the file. \n",
    "\n",
    "Python has what are known as `keyword arguments` in functions. These have a default value, so if you are ok with the defulat value, you can leave the argument out. The function `savetxt` has a default delimiter of a space, \" \". Since you want a comma, after the filename and the array, include `delimiter=','`.\n",
    "\n",
    "When `savetxt` writes out arrays of floats, it write 18 significant figures for each number. This makes the file hard to read. If you know about how many significant figures your data has, you can supply a *format* for your data. For this example, two decimal places are fine. The format for this in python is `%.2f`. The `%` starts the format statement, the `f` makes it a floating point formatted output, and `.2` says format the data with two decimal places. You need another keyword argument to the function `savetxt` that looks like this: `fmt='%.3f'`.\n",
    "\n",
    "Finally, you have to give lines of comments at the beginning of you file. The function `savetxt` conveniently has this feature with the keyword argument `header=`. You do not have to start the header lines with the comment character `#` because that is the default character `savetxt` adds to the lines in the header. Since you want more than one comment line in your header, the easy way is to define a string variable with several lines of comments in it. This is easy to do with the triple quote. Here is what I used to define the variable `headers`. Note the backslash \\ continues the line of code:\n",
    "```\n",
    "headers = \\\n",
    "\"\"\"Data from run 1\n",
    "2015-01-06 20:53\n",
    "This is a final comment\n",
    "Time, x1(m), x2(m)\"\"\"\n",
    "```\n",
    "\n",
    "BTW, I learned *all* of this about the function `savetext` by typing `help(savetxt)`\n",
    "\n",
    "I am going to give you the command to write your data file. Copy, paste, and run the following in the cell below and run it.\n",
    "```\n",
    "headers = \\\n",
    "\"\"\"Data from run 1\n",
    "2015-01-06 20:53\n",
    "This is a final comment\n",
    "Time, x1(m), x2(m)\"\"\"\n",
    "\n",
    "np.savetxt(\"positionData.csv\", np.array([time, xPos1, xPos2]).T,\\\n",
    "  fmt='%.3f', delimiter=',', header=headers)\n",
    "```"
   ]
  },
  {
   "cell_type": "code",
   "execution_count": 8,
   "metadata": {
    "collapsed": false,
    "jupyter": {
     "outputs_hidden": false
    }
   },
   "outputs": [],
   "source": [
    "headers = \\\n",
    "\"\"\"Data from run 1\n",
    "2015-01-06 20:53\n",
    "This is a final comment\n",
    "Time, x1(m), x2(m)\"\"\"\n",
    "\n",
    "np.savetxt(\"positionData.csv\", np.array([time, xPos1, xPos2]).T,\\\n",
    "  fmt='%.3f', delimiter=',', header=headers)"
   ]
  },
  {
   "cell_type": "markdown",
   "metadata": {},
   "source": [
    "Now you should have your data file in the folder where jupyter is running. Check it. It should have your comments, then the data in three columns separated by commas.\n",
    "\n",
    "You can open files in jupyter by click on the tab `Home`, then clicking on the file name. Open `positionData.csv` from jupyter and check that its contents looks like the file at the top of this notebook.\n",
    "\n",
    "Whew! Next is reading a data file."
   ]
  },
  {
   "cell_type": "markdown",
   "metadata": {},
   "source": [
    "----\n",
    "# Reading a Data File\n",
    "Creating a data file is useless if you don't know who to read it. Fortunately `numpy` has a function for reading data files named `genfromtxt`. The basic usage is `myArray = np.genfromtxt(fileName)`. Note that I like to first make a variable with the file's name, then use the variable in `genfromtxt`. One reason I do this is I can use that variable in the title if I make a plot. Then I know where the data came from that made the plot.\n",
    "\n",
    "Another cool jupyter hint: When making the variable `fileName`, after you type `\"`, press `<tab>` and jupyter will tab complete to help you find a file in your working folder.\n",
    "\n",
    "Run this code in the cell below, but put your file name in the variable string.\n",
    "```\n",
    "fileName = \"your file name\"\n",
    "myArray = np.genfromtxt(fileName, delimiter=',')\n",
    "print(myArray)\n",
    "```\n",
    "\n",
    "Do this. You should get your data in three columns."
   ]
  },
  {
   "cell_type": "code",
   "execution_count": 9,
   "metadata": {
    "collapsed": false,
    "jupyter": {
     "outputs_hidden": false
    }
   },
   "outputs": [
    {
     "name": "stdout",
     "output_type": "stream",
     "text": [
      "[[ 0.  1.  0.]\n",
      " [ 1.  3.  2.]\n",
      " [ 2.  5.  8.]\n",
      " [ 3.  7. 18.]\n",
      " [ 4.  9. 32.]\n",
      " [ 5. 11. 50.]]\n"
     ]
    }
   ],
   "source": [
    "fileName = \"positionData.csv\"\n",
    "myArray = np.genfromtxt(fileName, delimiter=',')\n",
    "print(myArray)"
   ]
  },
  {
   "cell_type": "markdown",
   "metadata": {
    "collapsed": false,
    "jupyter": {
     "outputs_hidden": false
    }
   },
   "source": [
    "You are almost there for what you need. You actually want to read the data into named arrays. The following sample gives you your time array:\n",
    "```\n",
    "t1 = myArray[:,0]\n",
    "```\n",
    "**Reminder**, in the index brackets, the `:` means *all elements* and `0` means *of column 0*, the first column.\n",
    "\n",
    "In the cell below, create the new variables `t1`, `yPos1`, and `yPos2` from `myArray`. (If you mess up, you may have to re-execute the previous cell that calls `genfromtxt`.) Print the variables out to verify you have grabbed them correctly."
   ]
  },
  {
   "cell_type": "code",
   "execution_count": 13,
   "metadata": {
    "collapsed": false,
    "jupyter": {
     "outputs_hidden": false
    }
   },
   "outputs": [
    {
     "name": "stdout",
     "output_type": "stream",
     "text": [
      "[0. 1. 2. 3. 4. 5.]\n",
      "[ 1.  3.  5.  7.  9. 11.]\n",
      "[ 0.  2.  8. 18. 32. 50.]\n"
     ]
    }
   ],
   "source": [
    "t1 = myArray[:,0]\n",
    "yPos1 = myArray[:,1]\n",
    "yPos2 = myArray[:,2]\n",
    "\n",
    "print(t1)\n",
    "print(yPos1)\n",
    "print(yPos2)"
   ]
  },
  {
   "cell_type": "markdown",
   "metadata": {
    "jp-MarkdownHeadingCollapsed": true
   },
   "source": [
    "## Printing the Comments\n",
    "A lot of times I would like to see the comments at the top of the file. You can just open a CSV file with any text editor, but you have to be careful because most operating systems want to open CSV files with Excel of another spreadsheet program. In both Windows and Mac OS X, if you navigate to the file and right-click, you can choose `Notepad` or `TextEdit` to open the file. Then you can read the first few lines.\n",
    "\n",
    "The code below has a programming approach. The first line is a `for` loop over all of the lines in the file, the second line picks the lines starting with the comment character.\n",
    "```\n",
    "for line in open(\"2015-01-06-Run1.csv\", 'r').readlines():\n",
    "    if line[0] == '#':\n",
    "        print(line, end='')\n",
    "```\n",
    "(The argument `end=''` keeps the print function from adding an extra line to the output.)\n",
    "\n",
    "Run the code in the cell below."
   ]
  },
  {
   "cell_type": "code",
   "execution_count": 16,
   "metadata": {
    "collapsed": false,
    "jupyter": {
     "outputs_hidden": false
    }
   },
   "outputs": [
    {
     "name": "stdout",
     "output_type": "stream",
     "text": [
      "# Data from run 1\n",
      "# 2015-01-06 20:53\n",
      "# This is a final comment\n",
      "# Time, x1(m), x2(m)\n"
     ]
    }
   ],
   "source": [
    "for line in open(\"positionData.csv\", 'r').readlines():\n",
    "    if line[0] == '#':\n",
    "        print(line, end='')"
   ]
  },
  {
   "cell_type": "markdown",
   "metadata": {},
   "source": [
    "# Conclusion\n",
    "There are many more ways to read and write data files from python, but these methods will go a long way for you."
   ]
  },
  {
   "cell_type": "code",
   "execution_count": 17,
   "metadata": {
    "collapsed": false,
    "jupyter": {
     "outputs_hidden": false
    }
   },
   "outputs": [
    {
     "data": {
      "text/html": [
       "<style type=\"text/css\">\n",
       "@import url('http://fonts.googleapis.com/css?family=Source+Code+Pro');\n",
       "\n",
       "/* Change code font */\n",
       ".CodeMirror pre {\n",
       "    font-family: 'Source Code Pro', Consolas, monocco, monospace;\n",
       "}\n",
       "\n",
       "div.text_cell {  \n",
       "    max-width: 105ex; /* instead of 100%, */\n",
       "}\n",
       "\n",
       "div.text_cell_render h1 {  \n",
       "    font-size: 16pt;\n",
       "    font-weight: bold;\n",
       "    color: RoyalBlue;\n",
       "}\n",
       "\n",
       "div.text_cell_render h2 {  \n",
       "    font-size: 14pt;\n",
       "    font-weight: bold;\n",
       "    font-style: italic;\n",
       "    color: RoyalBlue;\n",
       "}\n",
       "\n",
       "div.text_cell_render h3 {  \n",
       "    font-size: 14pt;\n",
       "    font-weight: normal;\n",
       "    font-style: italic;\n",
       "    color: RoyalBlue;\n",
       "}\n",
       "\n",
       "div.text_cell_render .rendered_html pre,\n",
       "div.text_cell_render .rendered_html code {\n",
       "    font-size: 14pt;\n",
       "    color: RoyalBlue;\n",
       "}\n",
       "\n",
       ".rendered_html ol {\n",
       "    list-style:decimal;\n",
       "    margin: 1em 2em;\n",
       "}\n",
       "\n",
       "hr {\n",
       "  height:0; \n",
       "  border:0; \n",
       "  border-top:5px solid RoyalBlue; \n",
       "}\n",
       "</style>"
      ],
      "text/plain": [
       "<IPython.core.display.HTML object>"
      ]
     },
     "execution_count": 17,
     "metadata": {},
     "output_type": "execute_result"
    }
   ],
   "source": [
    "from IPython.core.display import HTML\n",
    "def css_styling():\n",
    "    styles = open(\"custom.css\", \"r\").read()\n",
    "    return HTML(styles)\n",
    "css_styling()"
   ]
  }
 ],
 "metadata": {
  "anaconda-cloud": {},
  "kernelspec": {
   "display_name": "Python 3 (pythonskills)",
   "language": "python",
   "name": "pythonskills"
  },
  "language_info": {
   "codemirror_mode": {
    "name": "ipython",
    "version": 3
   },
   "file_extension": ".py",
   "mimetype": "text/x-python",
   "name": "python",
   "nbconvert_exporter": "python",
   "pygments_lexer": "ipython3",
   "version": "3.12.3"
  }
 },
 "nbformat": 4,
 "nbformat_minor": 4
}

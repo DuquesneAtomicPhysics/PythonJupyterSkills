{
 "cells": [
  {
   "cell_type": "markdown",
   "metadata": {},
   "source": [
    "----\n",
    "# Skill Homework #6 - Fitting Data to a Model\n",
    "----\n",
    "\n",
    "**Run this code in the cell below to get started.**\n",
    "```\n",
    "%matplotlib inline\n",
    "import numpy as np\n",
    "import matplotlib.pyplot as plt\n",
    "from scipy.optimize import curve_fit\n",
    "#\n",
    "# Now make some data\n",
    "np.random.seed(20150108) # seed the random number generator so eveyone has the same data\n",
    "time = np.linspace(0, 2, 101)\n",
    "volts = 2.5 * np.sin(2 * np.pi * time - 1.0) + np.random.normal(0,0.1,len(time))\n",
    "```"
   ]
  },
  {
   "cell_type": "code",
   "execution_count": 1,
   "metadata": {},
   "outputs": [],
   "source": [
    "%matplotlib inline\n",
    "import numpy as np\n",
    "import matplotlib.pyplot as plt\n",
    "from scipy.optimize import curve_fit\n",
    "#\n",
    "# Now make some data\n",
    "np.random.seed(20150108) # seed the random number generator so eveyone has the same data\n",
    "time = np.linspace(0, 2, 101)\n",
    "volts = 2.5 * np.sin(2 * np.pi * time - 1.0) + np.random.normal(0,0.1,len(time))"
   ]
  },
  {
   "cell_type": "markdown",
   "metadata": {},
   "source": [
    "# Introduction\n",
    "A very important data analysis skill is fitting a model to your data. Let's set up the situation with the data we simulated above. You have measured the output voltage from a system and it is delayed by some amount from your input signal which has the form $V(t) = 1.0 \\sin(2 \\pi t)$. You want to know the amplitude of the output and the time delay.\n",
    "\n",
    "You almost **always** want to start your data analysis by plotting your data, so that is what you should do first in the cell below. plot the data as dots, and your input as a red line. Your plot should look like the figure below.\n",
    "\n",
    "![First Plot](Skill-06a.png)\n",
    "\n",
    "** Plot the data in array `volts` and create the array for `input`.  **"
   ]
  },
  {
   "cell_type": "code",
   "execution_count": null,
   "metadata": {},
   "outputs": [],
   "source": []
  },
  {
   "cell_type": "markdown",
   "metadata": {},
   "source": [
    "# The Module `curve_fit`\n",
    "The module we are going to use to fit data to a model is called `curve_fit`. We are going to treat it as a black box, but what it does is minimize the average vertical distance between each data point and the closest vertical point on the model function. This module is in the `optimize` module which in turn is in the module `scipy`. \n",
    "\n",
    "There are several steps to using `curve_fit`.\n",
    "\n",
    "## 1. Write Your model Function\n",
    "In our case, we know the time dependence of the output goes as $\\sin(2\\pi t)$. What we don't know (so what we have to fit for) is the amplitude and the starting time. Let's call the amplitude `amp` and the start time `t0`, so the model function we are fitting is $V_{out} = amp \\sin(2 \\pi (t - t_0))$. The module `curve_fit` needs a function with independent variable as the first parameter. The next parameters, howevermany there are, are parameters to your fitting function.\n",
    "\n",
    "Here is a skeleton of the function. In the cell below you have to modify the function to work and return an array of the model function value for each x-value.\n",
    "```\n",
    "def vModel(time, amp, t0):\n",
    "    return # put your return function in here\n",
    "```\n",
    "\n",
    "** Modify the function below to return the function above. **"
   ]
  },
  {
   "cell_type": "code",
   "execution_count": null,
   "metadata": {},
   "outputs": [],
   "source": []
  },
  {
   "cell_type": "markdown",
   "metadata": {},
   "source": [
    "## 2. Guess Initial Values for Parameters\n",
    "Well, our first plot above shows a reasonable starting place, but we can refine our initial guess for the amplitude by setting it to\n",
    "$$amp_{start} = \\frac{max(data) - min(data)}{2} $$\n",
    "You can fund the *max* and *min* using the `numpy` functions `np.max()` and `np.min()`.\n",
    "\n",
    "For our initial `t0`, just try `0.0`.\n",
    "\n",
    "Use the code below to set initial guesses."
   ]
  },
  {
   "cell_type": "code",
   "execution_count": null,
   "metadata": {
    "collapsed": true
   },
   "outputs": [],
   "source": []
  },
  {
   "cell_type": "markdown",
   "metadata": {},
   "source": [
    "## 3. Run the Data Fit\n",
    "This is easy. Just run the code\n",
    "```\n",
    "paramsFit, paramsCovariance = \\\n",
    "  curve_fit(vModel, time, volts, p0=[ampStart, t0Start])\n",
    "```\n",
    "The function `curve_fit` does the very complicated non-linear least squares fit and returns two arrays: the best fit values of the parameters, and the *covarience* (think uncertainty) of those values. You capture those values in the variables `paramsFit`, and `paramsCovariance`. You should print out both of those variables.\n",
    "\n",
    "Note the backslash continues the code to the next line."
   ]
  },
  {
   "cell_type": "code",
   "execution_count": null,
   "metadata": {},
   "outputs": [],
   "source": []
  },
  {
   "cell_type": "markdown",
   "metadata": {},
   "source": [
    "## 4. Interpret the Results\n",
    "The array `paramsFit` are the best fit values of the parameters. I like to create new variables with these these values for use later. The line \n",
    "```\n",
    "(ampFit, t0Fit) = paramsFit\n",
    "```\n",
    "creates two new variables in one compact line of code.\n",
    "\n",
    "A second very important result is the **uncertainty** in your fit parameters. These are returned in the attribute `paramsCovariance`. This is more complicated since one variable can affect the other, the statistics are returned as a matrix. To simply look at the uncertainty of each variable by itself, you only need the diagonal elements and take their square roots.\n",
    "You can calculate the uncertainties by the code\n",
    "```\n",
    "ampSD = np.sqrt(paramsCovariance[0,0])\n",
    "t0SD = np.sqrt(paramsCovariance[1,1])\n",
    "```\n",
    "I like to clearly print these out for the use. I will capture the output in a string and print the string because I am going to use the string later in a plot. Copy and paste this code:\n",
    "```\n",
    "resultStr = \\\n",
    "r\"\"\"The amp is %.3f $\\pm$ %.3f\n",
    "The t0 is %.3f $\\pm$ %.3f\"\"\" % (ampFit, ampSD, t0Fit, t0SD)\n",
    "print(resultStr)\n",
    "```\n",
    "\n",
    "** Cut and paste the above code lines into the cell below and run the cell. **"
   ]
  },
  {
   "cell_type": "code",
   "execution_count": null,
   "metadata": {},
   "outputs": [],
   "source": []
  },
  {
   "cell_type": "markdown",
   "metadata": {},
   "source": [
    "## 5. Plotting Your Results\n",
    "**Always plot your results!**\n",
    "\n",
    "By now you should be able to plot the data and the model on the same figure. Here are some hints:\n",
    "* The best fit values are in the variables `ampFit` and `t0Fit`, so you can use that to calculate your model line. I used the call\n",
    "```\n",
    "vModel(time, ampFit, t0Fit)\n",
    "```\n",
    "right in my call to `ax.plot`, like\n",
    "```\n",
    "ax1.plot(time,vModel(time, ampFit, t0Fit),'-g', label=\"Fit\")\n",
    "```\n",
    "\n",
    "* I also used the method `ax.text` to write the best values right on my plot. The actual call is \n",
    "```\n",
    "ax.text(0.1,2.8,resultStr)\n",
    "```\n",
    "\n",
    "This is how my final plot looked:\n",
    "![First Plot](Skill-06b.png)\n",
    "\n",
    "Make your final plot in the cell below."
   ]
  },
  {
   "cell_type": "code",
   "execution_count": null,
   "metadata": {},
   "outputs": [],
   "source": []
  },
  {
   "cell_type": "markdown",
   "metadata": {},
   "source": [
    "# Using Two X-Axes\n",
    "Some times you only have a few data points you are fitting, but you want to draw a smooth model curve with you data. In the cell below I've created an example with just a few data points and fit a model to the data. You should  plot the data and model. You will see the model is a set of straight line segments between data points that do not look very good."
   ]
  },
  {
   "cell_type": "code",
   "execution_count": null,
   "metadata": {},
   "outputs": [],
   "source": []
  },
  {
   "cell_type": "markdown",
   "metadata": {},
   "source": [
    "** Now plot your data in the cell below. **"
   ]
  },
  {
   "cell_type": "code",
   "execution_count": null,
   "metadata": {},
   "outputs": [],
   "source": []
  },
  {
   "cell_type": "markdown",
   "metadata": {},
   "source": [
    "That doesn't look very good, does it? \n",
    "\n",
    "The solution to making a better plot is to make an additional x-axis variable for plotting that has enough points to create a smooth model curve. Try making an array like this\n",
    "\n",
    "```\n",
    "tPlot = np.linspace(0.0, 2.0, 501)\n",
    "```\n",
    "\n",
    "then plot the fit function using this plotting axis.\n",
    "\n",
    "\n",
    "Your plot should look similar this: \n",
    "![First Plot](Skill-06c.png)"
   ]
  },
  {
   "cell_type": "code",
   "execution_count": null,
   "metadata": {},
   "outputs": [],
   "source": []
  },
  {
   "cell_type": "markdown",
   "metadata": {},
   "source": [
    "# Other Topics\n",
    "There are many other data fitting topics I won't cover. You can Google them to find out. Here are some:\n",
    "* **Error Bars** Sometimes you want to plot error bars on your data\n",
    "* Correlated fit parameters"
   ]
  },
  {
   "cell_type": "code",
   "execution_count": 1,
   "metadata": {},
   "outputs": [
    {
     "data": {
      "text/html": [
       "<style type=\"text/css\">\n",
       "@import url('http://fonts.googleapis.com/css?family=Source+Code+Pro');\n",
       "\n",
       "/* Change code font */\n",
       ".CodeMirror pre {\n",
       "    font-family: 'Source Code Pro', Consolas, monocco, monospace;\n",
       "}\n",
       "\n",
       "div.text_cell {  \n",
       "    max-width: 105ex; /* instead of 100%, */\n",
       "}\n",
       "\n",
       "div.text_cell_render h1 {  \n",
       "    font-size: 16pt;\n",
       "    font-weight: bold;\n",
       "    color: RoyalBlue;\n",
       "}\n",
       "\n",
       "div.text_cell_render h2 {  \n",
       "    font-size: 14pt;\n",
       "    font-weight: bold;\n",
       "    font-style: italic;\n",
       "    color: RoyalBlue;\n",
       "}\n",
       "\n",
       "div.text_cell_render h3 {  \n",
       "    font-size: 14pt;\n",
       "    font-weight: normal;\n",
       "    font-style: italic;\n",
       "    color: RoyalBlue;\n",
       "}\n",
       "\n",
       "div.text_cell_render .rendered_html pre,\n",
       "div.text_cell_render .rendered_html code {\n",
       "    font-size: 14pt;\n",
       "    color: RoyalBlue;\n",
       "}\n",
       "\n",
       ".rendered_html ol {\n",
       "    list-style:decimal;\n",
       "    margin: 1em 2em;\n",
       "}\n",
       "\n",
       "hr {\n",
       "  height:0; \n",
       "  border:0; \n",
       "  border-top:5px solid RoyalBlue; \n",
       "}\n",
       "</style>"
      ],
      "text/plain": [
       "<IPython.core.display.HTML object>"
      ]
     },
     "execution_count": 1,
     "metadata": {},
     "output_type": "execute_result"
    }
   ],
   "source": [
    "from IPython.core.display import HTML\n",
    "def css_styling():\n",
    "    styles = open(\"custom.css\", \"r\").read()\n",
    "    return HTML(styles)\n",
    "css_styling()"
   ]
  }
 ],
 "metadata": {
  "anaconda-cloud": {},
  "kernelspec": {
   "display_name": "Python 3",
   "language": "python",
   "name": "python3"
  },
  "language_info": {
   "codemirror_mode": {
    "name": "ipython",
    "version": 3
   },
   "file_extension": ".py",
   "mimetype": "text/x-python",
   "name": "python",
   "nbconvert_exporter": "python",
   "pygments_lexer": "ipython3",
   "version": "3.7.4"
  }
 },
 "nbformat": 4,
 "nbformat_minor": 1
}
